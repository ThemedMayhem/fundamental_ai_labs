{
 "cells": [
  {
   "cell_type": "code",
   "execution_count": 1,
   "metadata": {},
   "outputs": [],
   "source": [
    "import numpy as np\n",
    "import tensorflow.keras as keras\n",
    "import matplotlib.pyplot as plt\n",
    "from tensorflow.keras.utils import to_categorical\n",
    "import tensorflow as tf\n",
    "from sklearn.metrics import f1_score\n",
    "from matplotlib.pyplot import figure\n",
    "from sklearn import metrics"
   ]
  },
  {
   "cell_type": "code",
   "execution_count": 2,
   "metadata": {},
   "outputs": [],
   "source": [
    "(x_train, y_train), (x_test, y_test) = tf.keras.datasets.mnist.load_data()\n",
    "x_train = x_train.reshape((60000, 28, 28))\n",
    "x_train = x_train.astype('float32') / 255\n",
    "x_test = x_test.reshape((10000, 28, 28))\n",
    "x_test = x_test.astype('float32') / 255\n",
    "\n",
    "y_train_non_cat = y_train\n",
    "y_test_non_cat = y_test\n",
    "y_train = to_categorical(y_train)\n",
    "y_test = to_categorical(y_test)"
   ]
  },
  {
   "cell_type": "code",
   "execution_count": null,
   "metadata": {},
   "outputs": [],
   "source": []
  },
  {
   "cell_type": "code",
   "execution_count": null,
   "metadata": {},
   "outputs": [],
   "source": []
  },
  {
   "cell_type": "code",
   "execution_count": 3,
   "metadata": {},
   "outputs": [
    {
     "data": {
      "text/plain": [
       "array([[0.        , 0.        , 0.        , 0.        , 0.        ,\n",
       "        0.        , 0.        , 0.        , 0.        , 0.        ,\n",
       "        0.        , 0.        , 0.        , 0.        , 0.        ,\n",
       "        0.        , 0.        , 0.        , 0.        , 0.        ,\n",
       "        0.        , 0.        , 0.        , 0.        , 0.        ,\n",
       "        0.        , 0.        , 0.        ],\n",
       "       [0.        , 0.        , 0.        , 0.        , 0.        ,\n",
       "        0.        , 0.        , 0.        , 0.        , 0.        ,\n",
       "        0.        , 0.        , 0.        , 0.        , 0.        ,\n",
       "        0.        , 0.        , 0.        , 0.        , 0.        ,\n",
       "        0.        , 0.        , 0.        , 0.        , 0.        ,\n",
       "        0.        , 0.        , 0.        ],\n",
       "       [0.        , 0.        , 0.        , 0.        , 0.        ,\n",
       "        0.        , 0.        , 0.        , 0.        , 0.        ,\n",
       "        0.        , 0.        , 0.        , 0.        , 0.        ,\n",
       "        0.        , 0.        , 0.        , 0.        , 0.        ,\n",
       "        0.        , 0.        , 0.        , 0.        , 0.        ,\n",
       "        0.        , 0.        , 0.        ],\n",
       "       [0.        , 0.        , 0.        , 0.        , 0.        ,\n",
       "        0.        , 0.        , 0.        , 0.        , 0.        ,\n",
       "        0.        , 0.        , 0.        , 0.        , 0.        ,\n",
       "        0.        , 0.        , 0.        , 0.        , 0.        ,\n",
       "        0.        , 0.        , 0.        , 0.        , 0.        ,\n",
       "        0.        , 0.        , 0.        ],\n",
       "       [0.        , 0.        , 0.        , 0.        , 0.        ,\n",
       "        0.        , 0.        , 0.        , 0.        , 0.        ,\n",
       "        0.        , 0.        , 0.        , 0.        , 0.        ,\n",
       "        0.        , 0.        , 0.        , 0.        , 0.        ,\n",
       "        0.        , 0.        , 0.        , 0.        , 0.        ,\n",
       "        0.        , 0.        , 0.        ],\n",
       "       [0.        , 0.        , 0.        , 0.        , 0.        ,\n",
       "        0.        , 0.        , 0.        , 0.        , 0.        ,\n",
       "        0.        , 0.        , 0.01176471, 0.07058824, 0.07058824,\n",
       "        0.07058824, 0.49411765, 0.53333336, 0.6862745 , 0.10196079,\n",
       "        0.6509804 , 1.        , 0.96862745, 0.49803922, 0.        ,\n",
       "        0.        , 0.        , 0.        ],\n",
       "       [0.        , 0.        , 0.        , 0.        , 0.        ,\n",
       "        0.        , 0.        , 0.        , 0.11764706, 0.14117648,\n",
       "        0.36862746, 0.6039216 , 0.6666667 , 0.99215686, 0.99215686,\n",
       "        0.99215686, 0.99215686, 0.99215686, 0.88235295, 0.6745098 ,\n",
       "        0.99215686, 0.9490196 , 0.7647059 , 0.2509804 , 0.        ,\n",
       "        0.        , 0.        , 0.        ],\n",
       "       [0.        , 0.        , 0.        , 0.        , 0.        ,\n",
       "        0.        , 0.        , 0.19215687, 0.93333334, 0.99215686,\n",
       "        0.99215686, 0.99215686, 0.99215686, 0.99215686, 0.99215686,\n",
       "        0.99215686, 0.99215686, 0.9843137 , 0.3647059 , 0.32156864,\n",
       "        0.32156864, 0.21960784, 0.15294118, 0.        , 0.        ,\n",
       "        0.        , 0.        , 0.        ],\n",
       "       [0.        , 0.        , 0.        , 0.        , 0.        ,\n",
       "        0.        , 0.        , 0.07058824, 0.85882354, 0.99215686,\n",
       "        0.99215686, 0.99215686, 0.99215686, 0.99215686, 0.7764706 ,\n",
       "        0.7137255 , 0.96862745, 0.94509804, 0.        , 0.        ,\n",
       "        0.        , 0.        , 0.        , 0.        , 0.        ,\n",
       "        0.        , 0.        , 0.        ],\n",
       "       [0.        , 0.        , 0.        , 0.        , 0.        ,\n",
       "        0.        , 0.        , 0.        , 0.3137255 , 0.6117647 ,\n",
       "        0.41960785, 0.99215686, 0.99215686, 0.8039216 , 0.04313726,\n",
       "        0.        , 0.16862746, 0.6039216 , 0.        , 0.        ,\n",
       "        0.        , 0.        , 0.        , 0.        , 0.        ,\n",
       "        0.        , 0.        , 0.        ],\n",
       "       [0.        , 0.        , 0.        , 0.        , 0.        ,\n",
       "        0.        , 0.        , 0.        , 0.        , 0.05490196,\n",
       "        0.00392157, 0.6039216 , 0.99215686, 0.3529412 , 0.        ,\n",
       "        0.        , 0.        , 0.        , 0.        , 0.        ,\n",
       "        0.        , 0.        , 0.        , 0.        , 0.        ,\n",
       "        0.        , 0.        , 0.        ],\n",
       "       [0.        , 0.        , 0.        , 0.        , 0.        ,\n",
       "        0.        , 0.        , 0.        , 0.        , 0.        ,\n",
       "        0.        , 0.54509807, 0.99215686, 0.74509805, 0.00784314,\n",
       "        0.        , 0.        , 0.        , 0.        , 0.        ,\n",
       "        0.        , 0.        , 0.        , 0.        , 0.        ,\n",
       "        0.        , 0.        , 0.        ],\n",
       "       [0.        , 0.        , 0.        , 0.        , 0.        ,\n",
       "        0.        , 0.        , 0.        , 0.        , 0.        ,\n",
       "        0.        , 0.04313726, 0.74509805, 0.99215686, 0.27450982,\n",
       "        0.        , 0.        , 0.        , 0.        , 0.        ,\n",
       "        0.        , 0.        , 0.        , 0.        , 0.        ,\n",
       "        0.        , 0.        , 0.        ],\n",
       "       [0.        , 0.        , 0.        , 0.        , 0.        ,\n",
       "        0.        , 0.        , 0.        , 0.        , 0.        ,\n",
       "        0.        , 0.        , 0.13725491, 0.94509804, 0.88235295,\n",
       "        0.627451  , 0.42352942, 0.00392157, 0.        , 0.        ,\n",
       "        0.        , 0.        , 0.        , 0.        , 0.        ,\n",
       "        0.        , 0.        , 0.        ],\n",
       "       [0.        , 0.        , 0.        , 0.        , 0.        ,\n",
       "        0.        , 0.        , 0.        , 0.        , 0.        ,\n",
       "        0.        , 0.        , 0.        , 0.31764707, 0.9411765 ,\n",
       "        0.99215686, 0.99215686, 0.46666667, 0.09803922, 0.        ,\n",
       "        0.        , 0.        , 0.        , 0.        , 0.        ,\n",
       "        0.        , 0.        , 0.        ],\n",
       "       [0.        , 0.        , 0.        , 0.        , 0.        ,\n",
       "        0.        , 0.        , 0.        , 0.        , 0.        ,\n",
       "        0.        , 0.        , 0.        , 0.        , 0.1764706 ,\n",
       "        0.7294118 , 0.99215686, 0.99215686, 0.5882353 , 0.10588235,\n",
       "        0.        , 0.        , 0.        , 0.        , 0.        ,\n",
       "        0.        , 0.        , 0.        ],\n",
       "       [0.        , 0.        , 0.        , 0.        , 0.        ,\n",
       "        0.        , 0.        , 0.        , 0.        , 0.        ,\n",
       "        0.        , 0.        , 0.        , 0.        , 0.        ,\n",
       "        0.0627451 , 0.3647059 , 0.9882353 , 0.99215686, 0.73333335,\n",
       "        0.        , 0.        , 0.        , 0.        , 0.        ,\n",
       "        0.        , 0.        , 0.        ],\n",
       "       [0.        , 0.        , 0.        , 0.        , 0.        ,\n",
       "        0.        , 0.        , 0.        , 0.        , 0.        ,\n",
       "        0.        , 0.        , 0.        , 0.        , 0.        ,\n",
       "        0.        , 0.        , 0.9764706 , 0.99215686, 0.9764706 ,\n",
       "        0.2509804 , 0.        , 0.        , 0.        , 0.        ,\n",
       "        0.        , 0.        , 0.        ],\n",
       "       [0.        , 0.        , 0.        , 0.        , 0.        ,\n",
       "        0.        , 0.        , 0.        , 0.        , 0.        ,\n",
       "        0.        , 0.        , 0.        , 0.        , 0.18039216,\n",
       "        0.50980395, 0.7176471 , 0.99215686, 0.99215686, 0.8117647 ,\n",
       "        0.00784314, 0.        , 0.        , 0.        , 0.        ,\n",
       "        0.        , 0.        , 0.        ],\n",
       "       [0.        , 0.        , 0.        , 0.        , 0.        ,\n",
       "        0.        , 0.        , 0.        , 0.        , 0.        ,\n",
       "        0.        , 0.        , 0.15294118, 0.5803922 , 0.8980392 ,\n",
       "        0.99215686, 0.99215686, 0.99215686, 0.98039216, 0.7137255 ,\n",
       "        0.        , 0.        , 0.        , 0.        , 0.        ,\n",
       "        0.        , 0.        , 0.        ],\n",
       "       [0.        , 0.        , 0.        , 0.        , 0.        ,\n",
       "        0.        , 0.        , 0.        , 0.        , 0.        ,\n",
       "        0.09411765, 0.44705883, 0.8666667 , 0.99215686, 0.99215686,\n",
       "        0.99215686, 0.99215686, 0.7882353 , 0.30588236, 0.        ,\n",
       "        0.        , 0.        , 0.        , 0.        , 0.        ,\n",
       "        0.        , 0.        , 0.        ],\n",
       "       [0.        , 0.        , 0.        , 0.        , 0.        ,\n",
       "        0.        , 0.        , 0.        , 0.09019608, 0.25882354,\n",
       "        0.8352941 , 0.99215686, 0.99215686, 0.99215686, 0.99215686,\n",
       "        0.7764706 , 0.31764707, 0.00784314, 0.        , 0.        ,\n",
       "        0.        , 0.        , 0.        , 0.        , 0.        ,\n",
       "        0.        , 0.        , 0.        ],\n",
       "       [0.        , 0.        , 0.        , 0.        , 0.        ,\n",
       "        0.        , 0.07058824, 0.67058825, 0.85882354, 0.99215686,\n",
       "        0.99215686, 0.99215686, 0.99215686, 0.7647059 , 0.3137255 ,\n",
       "        0.03529412, 0.        , 0.        , 0.        , 0.        ,\n",
       "        0.        , 0.        , 0.        , 0.        , 0.        ,\n",
       "        0.        , 0.        , 0.        ],\n",
       "       [0.        , 0.        , 0.        , 0.        , 0.21568628,\n",
       "        0.6745098 , 0.8862745 , 0.99215686, 0.99215686, 0.99215686,\n",
       "        0.99215686, 0.95686275, 0.52156866, 0.04313726, 0.        ,\n",
       "        0.        , 0.        , 0.        , 0.        , 0.        ,\n",
       "        0.        , 0.        , 0.        , 0.        , 0.        ,\n",
       "        0.        , 0.        , 0.        ],\n",
       "       [0.        , 0.        , 0.        , 0.        , 0.53333336,\n",
       "        0.99215686, 0.99215686, 0.99215686, 0.83137256, 0.5294118 ,\n",
       "        0.5176471 , 0.0627451 , 0.        , 0.        , 0.        ,\n",
       "        0.        , 0.        , 0.        , 0.        , 0.        ,\n",
       "        0.        , 0.        , 0.        , 0.        , 0.        ,\n",
       "        0.        , 0.        , 0.        ],\n",
       "       [0.        , 0.        , 0.        , 0.        , 0.        ,\n",
       "        0.        , 0.        , 0.        , 0.        , 0.        ,\n",
       "        0.        , 0.        , 0.        , 0.        , 0.        ,\n",
       "        0.        , 0.        , 0.        , 0.        , 0.        ,\n",
       "        0.        , 0.        , 0.        , 0.        , 0.        ,\n",
       "        0.        , 0.        , 0.        ],\n",
       "       [0.        , 0.        , 0.        , 0.        , 0.        ,\n",
       "        0.        , 0.        , 0.        , 0.        , 0.        ,\n",
       "        0.        , 0.        , 0.        , 0.        , 0.        ,\n",
       "        0.        , 0.        , 0.        , 0.        , 0.        ,\n",
       "        0.        , 0.        , 0.        , 0.        , 0.        ,\n",
       "        0.        , 0.        , 0.        ],\n",
       "       [0.        , 0.        , 0.        , 0.        , 0.        ,\n",
       "        0.        , 0.        , 0.        , 0.        , 0.        ,\n",
       "        0.        , 0.        , 0.        , 0.        , 0.        ,\n",
       "        0.        , 0.        , 0.        , 0.        , 0.        ,\n",
       "        0.        , 0.        , 0.        , 0.        , 0.        ,\n",
       "        0.        , 0.        , 0.        ]], dtype=float32)"
      ]
     },
     "execution_count": 3,
     "metadata": {},
     "output_type": "execute_result"
    }
   ],
   "source": [
    "x_train[0]"
   ]
  },
  {
   "cell_type": "code",
   "execution_count": 4,
   "metadata": {
    "scrolled": true
   },
   "outputs": [
    {
     "data": {
      "text/plain": [
       "array([0., 1., 0., 0., 0., 0., 0., 0., 0., 0.], dtype=float32)"
      ]
     },
     "execution_count": 4,
     "metadata": {},
     "output_type": "execute_result"
    }
   ],
   "source": [
    "y_train[6]"
   ]
  },
  {
   "cell_type": "code",
   "execution_count": 5,
   "metadata": {},
   "outputs": [
    {
     "data": {
      "text/plain": [
       "(60000, 28, 28)"
      ]
     },
     "execution_count": 5,
     "metadata": {},
     "output_type": "execute_result"
    }
   ],
   "source": [
    "x_train.shape"
   ]
  },
  {
   "cell_type": "code",
   "execution_count": null,
   "metadata": {},
   "outputs": [],
   "source": []
  },
  {
   "cell_type": "code",
   "execution_count": null,
   "metadata": {},
   "outputs": [],
   "source": []
  },
  {
   "cell_type": "code",
   "execution_count": null,
   "metadata": {},
   "outputs": [],
   "source": [
    " "
   ]
  },
  {
   "cell_type": "code",
   "execution_count": 6,
   "metadata": {},
   "outputs": [],
   "source": [
    "def convolution(image, filt, s=1):\n",
    "   \n",
    "    (f, _) = filt.shape # filter dimensions\n",
    "    in_dim, _ = image.shape # image dimensions\n",
    "    \n",
    "    out_dim = int((in_dim - f)/s)+1 # calculate output dimensions\n",
    "  \n",
    "    out = np.zeros((out_dim,out_dim))\n",
    "    \n",
    "    # convolve the filter over the image\n",
    "    \n",
    "    curr_y = out_y = 0\n",
    "    while curr_y + f <= in_dim:\n",
    "        curr_x = out_x = 0\n",
    "        while curr_x + f <= in_dim:\n",
    "            out[ out_y, out_x] = np.sum(filt * image[curr_y:curr_y+f, curr_x:curr_x+f])\n",
    "            curr_x += s\n",
    "            out_x += 1\n",
    "        curr_y += s\n",
    "        out_y += 1\n",
    "        \n",
    "    return out\n",
    "\n",
    "def convolutionBackward(dconv_prev, conv_in, filt, s=1):\n",
    "    '''\n",
    "    Backpropagation through a convolutional layer. \n",
    "    '''\n",
    "    (f, _) = filt.shape\n",
    "    (orig_dim, _) = conv_in.shape\n",
    "    dout = np.zeros(conv_in.shape) \n",
    "    dfilt = np.zeros(filt.shape)\n",
    "    \n",
    "    curr_y = out_y = 0\n",
    "    while curr_y + f <= orig_dim:\n",
    "        curr_x = out_x = 0\n",
    "        while curr_x + f <= orig_dim:\n",
    "            # loss gradient of filter (used to update the filter)\n",
    "            dfilt += dconv_prev[out_y, out_x] * conv_in[curr_y:curr_y+f, curr_x:curr_x+f]\n",
    "            # loss gradient of the input to the convolution operation (conv1 in the case of this network)\n",
    "            dout[curr_y:curr_y+f, curr_x:curr_x+f] += dconv_prev[out_y, out_x] * filt\n",
    "            curr_x += s\n",
    "            out_x += 1\n",
    "        curr_y += s\n",
    "        out_y += 1\n",
    "    \n",
    "    return dout, dfilt\n",
    "\n",
    "\n",
    "def maxpool(image, f=2, s=2):\n",
    "    '''\n",
    "    Downsample `image` using kernel size `f` and stride `s`\n",
    "    '''\n",
    "    h_prev, w_prev = image.shape\n",
    "    \n",
    "    h = int((h_prev - f)/s)+1\n",
    "    w = int((w_prev - f)/s)+1\n",
    "    \n",
    "    downsampled = np.zeros((h, w))\n",
    "    \n",
    "    curr_y = out_y = 0\n",
    "    while curr_y + f <= h_prev:\n",
    "        curr_x = out_x = 0\n",
    "        while curr_x + f <= w_prev:\n",
    "            downsampled[out_y, out_x] = np.max(image[curr_y:curr_y+f, curr_x:curr_x+f])\n",
    "            curr_x += s\n",
    "            out_x += 1\n",
    "        curr_y += s\n",
    "        out_y += 1\n",
    "    return downsampled\n",
    "\n",
    "def maxpoolBackward(dpool, orig, f=2, s=2):\n",
    "    (orig_dim, _) = orig.shape\n",
    "    \n",
    "    dout = np.zeros(orig.shape)\n",
    "    \n",
    "    curr_y = out_y = 0\n",
    "    while curr_y + f <= orig_dim:\n",
    "        curr_x = out_x = 0\n",
    "        while curr_x + f <= orig_dim:\n",
    "            # obtain index of largest value in input for current window\n",
    "            (a, b) = nanargmax(orig[ curr_y:curr_y+f, curr_x:curr_x+f])\n",
    "            dout[curr_y+a, curr_x+b] = dpool[ out_y, out_x]\n",
    "\n",
    "            curr_x += s\n",
    "            out_x += 1\n",
    "        curr_y += s\n",
    "        out_y += 1\n",
    "\n",
    "    return dout\n",
    "\n",
    "def nanargmax(arr):\n",
    "    idx = np.nanargmax(arr)\n",
    "    idxs = np.unravel_index(idx, arr.shape)\n",
    "    return idxs  \n",
    "\n",
    "def softmax(X):\n",
    "    out = np.exp(X)\n",
    "    return out/np.sum(out)\n",
    "\n",
    "def categoricalCrossEntropy(probs, label):\n",
    "    return -np.sum(label * np.log(probs))\n",
    "\n",
    "def init_params():\n",
    "    K1 = np.random.rand(32,3,3)\n",
    "    K2 = np.random.rand(64,32,3,3)\n",
    "    W1 = np.random.rand(128, 1600)/2000\n",
    "    W2 = np.random.rand(10, 128)/40\n",
    "    return K1,K2,W1,W2\n",
    "\n",
    "\n",
    "def forward_prop(K1,K2,W1, W2, X):\n",
    "#     A1 = np.zeros((K1.shape[0],(X.shape[1]-K1.shape[1]+1),(X.shape[1]-K1.shape[1]+1)))\n",
    "#     A2 = np.zeros((K1.shape[0],(int((A1.shape[1] - 2)/2)+1),(int((A1.shape[1] - 2)/2)+1)))\n",
    "#     A3 = np.zeros((K2.shape[0],(A2.shape[1]-K2.shape[2]+1),(A2.shape[1]-K2.shape[2]+1)))\n",
    "#     A4 = np.zeros((K2.shape[0],(int((A3.shape[1] - 2)/2)+1),(int((A3.shape[1] - 2)/2)+1)))\n",
    "#     print(A1.shape,A2.shape,A3.shape,A4.shape)\n",
    "    \n",
    "    A1 = np.zeros((32,26,26))\n",
    "    A2 = np.zeros((32,13,13))\n",
    "    A3 = np.zeros((64,11,11))\n",
    "    A4 = np.zeros((64,5,5))\n",
    "    \n",
    "    for i in range(K1.shape[0]):\n",
    "        A1[i] = convolution(X, K1[i])\n",
    "    for i in range(K1.shape[0]):\n",
    "        A2[i] = maxpool(A1[i])\n",
    "        \n",
    "    A3_i_sum = np.zeros((11,11)) \n",
    "    for i in range(K2.shape[0]):\n",
    "        for j in range(K2.shape[1]):\n",
    "            A3_i_sum = A3_i_sum + convolution(A2[j], K2[i][j])\n",
    "        A3[i] = A3_i_sum\n",
    "        A3_i_sum = np.zeros((11,11))\n",
    "    \n",
    "    for i in range(K2.shape[0]):\n",
    "        A4[i] = maxpool(A3[i])\n",
    "    \n",
    "    A5 = A4.flatten()  \n",
    "    A6 = (W1).dot(A5)\n",
    "    A7 = W2.dot(A6)\n",
    "    A8 = softmax(A7)\n",
    "    return A8,A7,A6,A5,A4,A3,A2,A1\n",
    "\n",
    "\n",
    "    \n",
    "    \n",
    "def backward_prop(A8,A7,A6,A5,A4,A3,A2,A1,X,y,K1,K2,W1,W2):\n",
    "    dA7 = (A8 - y).reshape(10,1)\n",
    "    dW2 =  (dA7).dot(A6.reshape(128,1).T)\n",
    "    dA6 = (((W2.T).dot(dA7)))\n",
    "    dW1 = (dA6).dot(A5.reshape(1600,1).T)\n",
    "    dA5 = ((W1.T).dot(dA6)).reshape(64,5,5)\n",
    "    \n",
    "    dA4 = np.zeros((64,11,11))\n",
    "    for i in range(K2.shape[0]):\n",
    "        dA4[i] = maxpoolBackward(dA5[i],A3[i])\n",
    "    \n",
    "    dK2 = np.zeros((64,32,3,3))\n",
    "    dA3 = np.zeros((32,13,13))\n",
    "    for i in range(dK2.shape[0]):\n",
    "        for j in range(dK2.shape[1]):\n",
    "            dA3[j], dK2[i][j] = convolutionBackward(dA4[i],A2[j],K2[i][j])\n",
    "            \n",
    "    dA2 = np.zeros((32,26,26))        \n",
    "    for i in range(K1.shape[0]):\n",
    "        dA2[i] = maxpoolBackward(dA3[i],A1[i])\n",
    "        \n",
    "    dK1 = np.zeros((32,3,3))  \n",
    "    for i in range(K1.shape[0]):\n",
    "        _, dK1[i] = convolutionBackward(dA2[i],X,K1[i])\n",
    "        \n",
    "    return dW2,dW1,dK2,dK1\n",
    "    "
   ]
  },
  {
   "cell_type": "code",
   "execution_count": 7,
   "metadata": {},
   "outputs": [],
   "source": [
    "def update_params(W1, W2, dW1, dW2, alpha,K1,K2,dK1,dK2):\n",
    "    W1 = W1 - alpha * dW1   \n",
    "    W2 = W2 - alpha * dW2    \n",
    "    K1 = K1 - alpha * dK1   \n",
    "    K2 = K2 - alpha * dK2    \n",
    "    return W1, W2, K1, K2"
   ]
  },
  {
   "cell_type": "code",
   "execution_count": 8,
   "metadata": {},
   "outputs": [],
   "source": [
    "def get_predictions(y_proba):\n",
    "    return np.argmax(y_proba)\n",
    "\n",
    "def get_accuracy(predictions, Y):\n",
    "    return np.sum(predictions == Y) / Y.size"
   ]
  },
  {
   "cell_type": "code",
   "execution_count": 9,
   "metadata": {},
   "outputs": [],
   "source": [
    "def gradient_descent(X, Y, Y_non_cat, alpha, iterations):\n",
    "    K1,K2,W1,W2 = init_params()\n",
    "    for i in range(iterations):\n",
    "        loss = 0\n",
    "        pred = np.zeros((len(Y),1)).astype(int)\n",
    "        for j in range(len(Y)):\n",
    "            A8,A7,A6,A5,A4,A3,A2,A1 = forward_prop(K1,K2,W1, W2, X[j])         \n",
    "            dW2,dW1,dK2,dK1 = backward_prop(A8,A7,A6,A5,A4,A3,A2,A1,X[j],Y[j],K1,K2,W1,W2)\n",
    "#             print(dW2,dW1,dK2,dK1)\n",
    "            W1, W2, K1, K2 =  update_params(W1, W2, dW1, dW2, alpha,K1,K2,dK1,dK2) \n",
    "            loss = loss + categoricalCrossEntropy(A8,Y[j])   \n",
    "            pred[j]=get_predictions(A8)\n",
    "        pred = pred.flatten()\n",
    "#         print('pred:',pred)\n",
    "#         print('real:',Y_non_cat)\n",
    "        if i % 1 == 0:\n",
    "            print(f\"epoch: [{i+1}/{iterations}], train_loss={np.round(loss,8)}, \\\n",
    "            train_acc={np.round(get_accuracy(pred,Y_non_cat),8)}\")\n",
    "\n",
    "    return K1,K2,W1,W2"
   ]
  },
  {
   "cell_type": "code",
   "execution_count": 10,
   "metadata": {},
   "outputs": [],
   "source": [
    "num = 100"
   ]
  },
  {
   "cell_type": "code",
   "execution_count": 16,
   "metadata": {},
   "outputs": [
    {
     "name": "stdout",
     "output_type": "stream",
     "text": [
      "epoch: [1/20], train_loss=446.30733941,             train_acc=0.11\n",
      "epoch: [2/20], train_loss=237.28247112,             train_acc=0.19\n",
      "epoch: [3/20], train_loss=197.05136971,             train_acc=0.35\n",
      "epoch: [4/20], train_loss=171.955847,             train_acc=0.42\n",
      "epoch: [5/20], train_loss=154.1671247,             train_acc=0.48\n",
      "epoch: [6/20], train_loss=140.44953586,             train_acc=0.48\n",
      "epoch: [7/20], train_loss=129.2979869,             train_acc=0.54\n",
      "epoch: [8/20], train_loss=119.94795327,             train_acc=0.58\n",
      "epoch: [9/20], train_loss=111.94181645,             train_acc=0.62\n",
      "epoch: [10/20], train_loss=104.97382572,             train_acc=0.63\n",
      "epoch: [11/20], train_loss=98.84667671,             train_acc=0.64\n",
      "epoch: [12/20], train_loss=93.45361516,             train_acc=0.64\n",
      "epoch: [13/20], train_loss=88.7263944,             train_acc=0.71\n",
      "epoch: [14/20], train_loss=84.58035323,             train_acc=0.71\n",
      "epoch: [15/20], train_loss=80.91256982,             train_acc=0.73\n",
      "epoch: [16/20], train_loss=77.62750676,             train_acc=0.74\n",
      "epoch: [17/20], train_loss=74.6500666,             train_acc=0.74\n",
      "epoch: [18/20], train_loss=71.92484709,             train_acc=0.75\n",
      "epoch: [19/20], train_loss=69.41133096,             train_acc=0.78\n",
      "epoch: [20/20], train_loss=67.07941571,             train_acc=0.79\n",
      "CPU times: total: 1h 35min 18s\n",
      "Wall time: 1h 35min 21s\n"
     ]
    }
   ],
   "source": [
    "%%time \n",
    "K1,K2,W1,W2 = gradient_descent(x_train[:num],y_train[:num],y_train_non_cat[:num],0.000001,20)"
   ]
  },
  {
   "cell_type": "code",
   "execution_count": null,
   "metadata": {},
   "outputs": [],
   "source": []
  },
  {
   "cell_type": "code",
   "execution_count": 17,
   "metadata": {},
   "outputs": [],
   "source": [
    "num = 1000"
   ]
  },
  {
   "cell_type": "code",
   "execution_count": 13,
   "metadata": {},
   "outputs": [],
   "source": [
    "def test_acc(K1,K2,W1, W2, X, Y):\n",
    "    pred = np.zeros((len(Y),1)).astype(int)\n",
    "    pred_proba = []\n",
    "    for j in range(len(Y)):\n",
    "                A8,_,_,_,_,_,_,_ = forward_prop(K1,K2,W1, W2, X[j])\n",
    "                pred_proba.append(A8)\n",
    "                pred[j] = get_predictions(A8)\n",
    "    pred = pred.flatten()\n",
    "#     print(pred)\n",
    "#     print(Y)\n",
    "    \n",
    "    print('f1 scores for every class:', np.round(f1_score(Y, pred, average=None),3))\n",
    "    \n",
    "    return get_accuracy(pred, Y[:len(Y)]),pred, pred_proba"
   ]
  },
  {
   "cell_type": "code",
   "execution_count": 19,
   "metadata": {},
   "outputs": [
    {
     "data": {
      "text/plain": [
       "0.592"
      ]
     },
     "execution_count": 19,
     "metadata": {},
     "output_type": "execute_result"
    }
   ],
   "source": [
    "test_acc(K1,K2,W1, W2, x_test[:num], y_test_non_cat[:num])"
   ]
  },
  {
   "cell_type": "code",
   "execution_count": null,
   "metadata": {},
   "outputs": [],
   "source": []
  },
  {
   "cell_type": "code",
   "execution_count": 12,
   "metadata": {},
   "outputs": [],
   "source": [
    "def gradient_descent_tune(X, Y, Y_non_cat, alpha, iterations,K1,K2,W1,W2):\n",
    "#     K1,K2,W1,W2 = init_params()\n",
    "    for i in range(iterations):\n",
    "        loss = 0\n",
    "        pred = np.zeros((len(Y),1)).astype(int)\n",
    "        for j in range(len(Y)):\n",
    "            A8,A7,A6,A5,A4,A3,A2,A1 = forward_prop(K1,K2,W1, W2, X[j])         \n",
    "            dW2,dW1,dK2,dK1 = backward_prop(A8,A7,A6,A5,A4,A3,A2,A1,X[j],Y[j],K1,K2,W1,W2)\n",
    "#             print(dW2,dW1,dK2,dK1)\n",
    "            W1, W2, K1, K2 =  update_params(W1, W2, dW1, dW2, alpha,K1,K2,dK1,dK2) \n",
    "            loss = loss + categoricalCrossEntropy(A8,Y[j])   \n",
    "            pred[j]=get_predictions(A8)\n",
    "        pred = pred.flatten()\n",
    "#         print('pred:',pred)\n",
    "#         print('real:',Y_non_cat)\n",
    "        if j % 1 == 0:\n",
    "            print(f\"epoch: [{i+1}/{iterations}], train_loss={np.round(loss,8)}, \\\n",
    "            train_acc={np.round(get_accuracy(pred,Y_non_cat),8)}\")\n",
    "\n",
    "    return K1,K2,W1,W2"
   ]
  },
  {
   "cell_type": "code",
   "execution_count": 23,
   "metadata": {},
   "outputs": [
    {
     "name": "stdout",
     "output_type": "stream",
     "text": [
      "epoch: [1/20], train_loss=64.90612672,             train_acc=0.79\n",
      "epoch: [2/20], train_loss=62.87336969,             train_acc=0.79\n",
      "epoch: [3/20], train_loss=60.96643668,             train_acc=0.8\n",
      "epoch: [4/20], train_loss=59.17302501,             train_acc=0.8\n",
      "epoch: [5/20], train_loss=57.48259565,             train_acc=0.8\n",
      "epoch: [6/20], train_loss=55.88595267,             train_acc=0.82\n",
      "epoch: [7/20], train_loss=54.37496488,             train_acc=0.82\n",
      "epoch: [8/20], train_loss=52.94237784,             train_acc=0.83\n",
      "epoch: [9/20], train_loss=51.58168232,             train_acc=0.83\n",
      "epoch: [10/20], train_loss=50.28701797,             train_acc=0.83\n",
      "epoch: [11/20], train_loss=49.0530987,             train_acc=0.83\n",
      "epoch: [12/20], train_loss=47.87515199,             train_acc=0.83\n",
      "epoch: [13/20], train_loss=46.74886707,             train_acc=0.84\n",
      "epoch: [14/20], train_loss=45.67034964,             train_acc=0.84\n",
      "epoch: [15/20], train_loss=44.63608122,             train_acc=0.85\n",
      "epoch: [16/20], train_loss=43.64288251,             train_acc=0.86\n",
      "epoch: [17/20], train_loss=42.68788002,             train_acc=0.87\n",
      "epoch: [18/20], train_loss=41.7684757,             train_acc=0.87\n",
      "epoch: [19/20], train_loss=40.88231929,             train_acc=0.87\n",
      "epoch: [20/20], train_loss=40.0272832,             train_acc=0.87\n",
      "CPU times: total: 1h 35min 34s\n",
      "Wall time: 1h 35min 37s\n"
     ]
    }
   ],
   "source": [
    "%%time \n",
    "K1,K2,W1,W2 = gradient_descent_tune(x_train[:num],y_train[:num],y_train_non_cat[:num],0.000001,20,K1,K2,W1,W2)"
   ]
  },
  {
   "cell_type": "code",
   "execution_count": 24,
   "metadata": {},
   "outputs": [],
   "source": [
    "num = 1000"
   ]
  },
  {
   "cell_type": "code",
   "execution_count": 25,
   "metadata": {},
   "outputs": [
    {
     "data": {
      "text/plain": [
       "0.625"
      ]
     },
     "execution_count": 25,
     "metadata": {},
     "output_type": "execute_result"
    }
   ],
   "source": [
    "test_acc(K1,K2,W1, W2, x_test[:num], y_test_non_cat[:num])"
   ]
  },
  {
   "cell_type": "code",
   "execution_count": 14,
   "metadata": {},
   "outputs": [],
   "source": [
    "num = 400"
   ]
  },
  {
   "cell_type": "code",
   "execution_count": 32,
   "metadata": {},
   "outputs": [
    {
     "name": "stdout",
     "output_type": "stream",
     "text": [
      "epoch: [1/5], train_loss=1079.47450513,             train_acc=0.2\n",
      "epoch: [2/5], train_loss=575.92027015,             train_acc=0.53\n",
      "epoch: [3/5], train_loss=451.86789367,             train_acc=0.6425\n",
      "epoch: [4/5], train_loss=389.73945006,             train_acc=0.69\n",
      "epoch: [5/5], train_loss=351.23404867,             train_acc=0.715\n",
      "CPU times: total: 1h 35min 27s\n",
      "Wall time: 1h 35min 29s\n"
     ]
    }
   ],
   "source": [
    "%%time \n",
    "K1,K2,W1,W2 = gradient_descent(x_train[:num],y_train[:num],y_train_non_cat[:num],0.000001,5)"
   ]
  },
  {
   "cell_type": "code",
   "execution_count": null,
   "metadata": {},
   "outputs": [],
   "source": []
  },
  {
   "cell_type": "code",
   "execution_count": 35,
   "metadata": {},
   "outputs": [
    {
     "data": {
      "text/plain": [
       "0.6675"
      ]
     },
     "execution_count": 35,
     "metadata": {},
     "output_type": "execute_result"
    }
   ],
   "source": [
    "test_acc(K1,K2,W1, W2, x_test[:num], y_test_non_cat[:num])"
   ]
  },
  {
   "cell_type": "code",
   "execution_count": 38,
   "metadata": {},
   "outputs": [
    {
     "name": "stdout",
     "output_type": "stream",
     "text": [
      "epoch: [1/2], train_loss=323.99645828,             train_acc=0.7325\n",
      "epoch: [2/2], train_loss=303.15873879,             train_acc=0.74\n",
      "CPU times: total: 38min 13s\n",
      "Wall time: 38min 13s\n"
     ]
    }
   ],
   "source": [
    "%%time \n",
    "K1,K2,W1,W2 = gradient_descent_tune(x_train[:num],y_train[:num],y_train_non_cat[:num],0.000001,2,K1,K2,W1,W2)"
   ]
  },
  {
   "cell_type": "code",
   "execution_count": 39,
   "metadata": {},
   "outputs": [
    {
     "data": {
      "text/plain": [
       "0.69"
      ]
     },
     "execution_count": 39,
     "metadata": {},
     "output_type": "execute_result"
    }
   ],
   "source": [
    "test_acc(K1,K2,W1, W2, x_test[:num], y_test_non_cat[:num])"
   ]
  },
  {
   "cell_type": "code",
   "execution_count": null,
   "metadata": {},
   "outputs": [],
   "source": []
  },
  {
   "cell_type": "code",
   "execution_count": 41,
   "metadata": {},
   "outputs": [],
   "source": [
    "with open('w.npy', 'wb') as f:\n",
    "    np.save(f, K1)\n",
    "    np.save(f, K2)\n",
    "    np.save(f, W1)\n",
    "    np.save(f, W2)"
   ]
  },
  {
   "cell_type": "code",
   "execution_count": 10,
   "metadata": {},
   "outputs": [],
   "source": [
    "with open('w.npy', 'rb') as f:\n",
    "    K1 = np.load(f)\n",
    "    K2 = np.load(f)\n",
    "    W1 = np.load(f)\n",
    "    W2 = np.load(f)"
   ]
  },
  {
   "cell_type": "code",
   "execution_count": 15,
   "metadata": {},
   "outputs": [
    {
     "name": "stdout",
     "output_type": "stream",
     "text": [
      "epoch: [1/3], train_loss=286.39913923,             train_acc=0.76\n",
      "epoch: [2/3], train_loss=272.45398944,             train_acc=0.76\n",
      "epoch: [3/3], train_loss=260.57390875,             train_acc=0.7725\n",
      "CPU times: total: 57min 38s\n",
      "Wall time: 57min 39s\n"
     ]
    }
   ],
   "source": [
    "%%time \n",
    "K1,K2,W1,W2 = gradient_descent_tune(x_train[:num],y_train[:num],y_train_non_cat[:num],0.000001,3,K1,K2,W1,W2)"
   ]
  },
  {
   "cell_type": "code",
   "execution_count": 16,
   "metadata": {},
   "outputs": [
    {
     "data": {
      "text/plain": [
       "0.7375"
      ]
     },
     "execution_count": 16,
     "metadata": {},
     "output_type": "execute_result"
    }
   ],
   "source": [
    "test_acc(K1,K2,W1, W2, x_test[:num], y_test_non_cat[:num])"
   ]
  },
  {
   "cell_type": "code",
   "execution_count": 17,
   "metadata": {},
   "outputs": [
    {
     "name": "stdout",
     "output_type": "stream",
     "text": [
      "epoch: [1/2], train_loss=250.28296988,             train_acc=0.7825\n",
      "epoch: [2/2], train_loss=241.25914835,             train_acc=0.795\n",
      "CPU times: total: 37min 46s\n",
      "Wall time: 37min 47s\n"
     ]
    }
   ],
   "source": [
    "%%time \n",
    "K1,K2,W1,W2 = gradient_descent_tune(x_train[:num],y_train[:num],y_train_non_cat[:num],0.000001,2,K1,K2,W1,W2)"
   ]
  },
  {
   "cell_type": "code",
   "execution_count": 18,
   "metadata": {},
   "outputs": [
    {
     "data": {
      "text/plain": [
       "0.76"
      ]
     },
     "execution_count": 18,
     "metadata": {},
     "output_type": "execute_result"
    }
   ],
   "source": [
    "test_acc(K1,K2,W1, W2, x_test[:num], y_test_non_cat[:num])"
   ]
  },
  {
   "cell_type": "code",
   "execution_count": 59,
   "metadata": {
    "scrolled": false
   },
   "outputs": [
    {
     "data": {
      "image/png": "[encoded data removed]",
      "text/plain": [
       "<Figure size 640x480 with 1 Axes>"
      ]
     },
     "metadata": {
      "needs_background": "light"
     },
     "output_type": "display_data"
    },
    {
     "data": {
      "image/png": "[encoded data removed]",
      "text/plain": [
       "<Figure size 640x480 with 1 Axes>"
      ]
     },
     "metadata": {
      "needs_background": "light"
     },
     "output_type": "display_data"
    },
    {
     "data": {
      "image/png": "[encoded data removed]",
      "text/plain": [
       "<Figure size 640x480 with 1 Axes>"
      ]
     },
     "metadata": {
      "needs_background": "light"
     },
     "output_type": "display_data"
    },
    {
     "data": {
      "image/png": "[encoded data removed]",
      "text/plain": [
       "<Figure size 640x480 with 1 Axes>"
      ]
     },
     "metadata": {
      "needs_background": "light"
     },
     "output_type": "display_data"
    },
    {
     "data": {
      "image/png": "[encoded data removed]",
      "text/plain": [
       "<Figure size 640x480 with 1 Axes>"
      ]
     },
     "metadata": {
      "needs_background": "light"
     },
     "output_type": "display_data"
    },
    {
     "data": {
      "image/png": "[encoded data removed]",
      "text/plain": [
       "<Figure size 640x480 with 1 Axes>"
      ]
     },
     "metadata": {
      "needs_background": "light"
     },
     "output_type": "display_data"
    },
    {
     "data": {
      "image/png": "[encoded data removed]",
      "text/plain": [
       "<Figure size 640x480 with 1 Axes>"
      ]
     },
     "metadata": {
      "needs_background": "light"
     },
     "output_type": "display_data"
    },
    {
     "data": {
      "image/png": "[encoded data removed]",
      "text/plain": [
       "<Figure size 640x480 with 1 Axes>"
      ]
     },
     "metadata": {
      "needs_background": "light"
     },
     "output_type": "display_data"
    },
    {
     "data": {
      "image/png": "[encoded data removed]",
      "text/plain": [
       "<Figure size 640x480 with 1 Axes>"
      ]
     },
     "metadata": {
      "needs_background": "light"
     },
     "output_type": "display_data"
    },
    {
     "data": {
      "image/png": "[encoded data removed]",
      "text/plain": [
       "<Figure size 640x480 with 1 Axes>"
      ]
     },
     "metadata": {
      "needs_background": "light"
     },
     "output_type": "display_data"
    }
   ],
   "source": [
    "for i in range(10):\n",
    "    cl_proba = np.zeros((num,1))\n",
    "    y_real_cl = np.zeros((num,1))\n",
    "    for j in range(num):\n",
    "        cl_proba[j] = pred_proba[j][i]\n",
    "        if y_test_non_cat[j]==i: \n",
    "            y_real_cl[j]=1\n",
    "        else: \n",
    "            y_real_cl[j]=0\n",
    "        \n",
    "    fpr, tpr, _ = metrics.roc_curve(y_real_cl, cl_proba)\n",
    "\n",
    "    figure(figsize=(8, 6), dpi=80)\n",
    "    plt.plot(fpr,tpr)\n",
    "    plt.ylabel('True Positive Rate')\n",
    "    plt.xlabel('False Positive Rate')\n",
    "    plt.title(f'class {i}, roc-auc score: {np.round(metrics.roc_auc_score(y_real_cl, cl_proba),3)}')\n",
    "    plt.show()"
   ]
  },
  {
   "cell_type": "code",
   "execution_count": 14,
   "metadata": {},
   "outputs": [],
   "source": [
    "num = 10000"
   ]
  },
  {
   "cell_type": "code",
   "execution_count": 15,
   "metadata": {},
   "outputs": [
    {
     "name": "stdout",
     "output_type": "stream",
     "text": [
      "f1 scores for every class: [0.872 0.896 0.798 0.809 0.691 0.648 0.777 0.83  0.59  0.639]\n",
      "CPU times: total: 3h 12min 15s\n",
      "Wall time: 3h 12min 21s\n"
     ]
    }
   ],
   "source": [
    "%%time\n",
    "acc, pred, pred_proba = test_acc(K1,K2,W1, W2, x_test[:num], y_test_non_cat[:num])"
   ]
  },
  {
   "cell_type": "code",
   "execution_count": 57,
   "metadata": {},
   "outputs": [],
   "source": [
    "import seaborn as sns\n",
    "from sklearn.metrics import confusion_matrix\n",
    "#Generate the confusion matrix\n",
    "cf_matrix = confusion_matrix(y_test_non_cat[:num], pred)"
   ]
  },
  {
   "cell_type": "code",
   "execution_count": 58,
   "metadata": {},
   "outputs": [
    {
     "data": {
      "image/png": "[encoded data removed]",
      "text/plain": [
       "<Figure size 432x288 with 2 Axes>"
      ]
     },
     "metadata": {
      "needs_background": "light"
     },
     "output_type": "display_data"
    }
   ],
   "source": [
    "ax = sns.heatmap(num*cf_matrix/np.sum(cf_matrix), annot=True,\n",
    "fmt='2', cmap='Blues')\n",
    "ax.set_title('Seaborn Confusion Matrix with labels\\n\\n');\n",
    "ax.set_xlabel('\\nPredicted Values')\n",
    "ax.set_ylabel('Actual Values ');\n",
    "plt.show()"
   ]
  },
  {
   "cell_type": "code",
   "execution_count": null,
   "metadata": {},
   "outputs": [],
   "source": []
  },
  {
   "cell_type": "code",
   "execution_count": null,
   "metadata": {},
   "outputs": [],
   "source": []
  }
 ],
 "metadata": {
  "kernelspec": {
   "display_name": "Python 3 (ipykernel)",
   "language": "python",
   "name": "python3"
  },
  "language_info": {
   "codemirror_mode": {
    "name": "ipython",
    "version": 3
   },
   "file_extension": ".py",
   "mimetype": "text/x-python",
   "name": "python",
   "nbconvert_exporter": "python",
   "pygments_lexer": "ipython3",
   "version": "3.9.12"
  }
 },
 "nbformat": 4,
 "nbformat_minor": 4
}
